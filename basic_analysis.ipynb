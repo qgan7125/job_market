{
 "cells": [
  {
   "cell_type": "code",
   "execution_count": 1,
   "source": [
    "import pandas as pd\r\n",
    "import matplotlib.pyplot as plt\r\n",
    "import numpy as np\r\n",
    "import re"
   ],
   "outputs": [],
   "metadata": {}
  },
  {
   "cell_type": "code",
   "execution_count": 2,
   "source": [
    "df = pd.read_csv('Data scientist no detail.csv')"
   ],
   "outputs": [],
   "metadata": {}
  },
  {
   "cell_type": "code",
   "execution_count": 3,
   "source": [
    "df.head()"
   ],
   "outputs": [
    {
     "output_type": "execute_result",
     "data": {
      "text/html": [
       "<div>\n",
       "<style scoped>\n",
       "    .dataframe tbody tr th:only-of-type {\n",
       "        vertical-align: middle;\n",
       "    }\n",
       "\n",
       "    .dataframe tbody tr th {\n",
       "        vertical-align: top;\n",
       "    }\n",
       "\n",
       "    .dataframe thead th {\n",
       "        text-align: right;\n",
       "    }\n",
       "</style>\n",
       "<table border=\"1\" class=\"dataframe\">\n",
       "  <thead>\n",
       "    <tr style=\"text-align: right;\">\n",
       "      <th></th>\n",
       "      <th>Unnamed: 0</th>\n",
       "      <th>Title</th>\n",
       "      <th>Company</th>\n",
       "      <th>Rating</th>\n",
       "      <th>Location</th>\n",
       "      <th>Salary</th>\n",
       "      <th>Post_date</th>\n",
       "      <th>Extract_date</th>\n",
       "      <th>Job_url</th>\n",
       "    </tr>\n",
       "  </thead>\n",
       "  <tbody>\n",
       "    <tr>\n",
       "      <th>0</th>\n",
       "      <td>0</td>\n",
       "      <td>Senior Data Scientist</td>\n",
       "      <td>CyberCoders</td>\n",
       "      <td>3.4</td>\n",
       "      <td>['Lake Forest, CA 92630+2 locations']</td>\n",
       "      <td>NaN</td>\n",
       "      <td>1 day ago</td>\n",
       "      <td>2021-09-18</td>\n",
       "      <td>https://www.indeed.com/pagead/clk?mo=r&amp;ad=-6NY...</td>\n",
       "    </tr>\n",
       "    <tr>\n",
       "      <th>1</th>\n",
       "      <td>1</td>\n",
       "      <td>Principal Data Scientist</td>\n",
       "      <td>DISYS</td>\n",
       "      <td>3.5</td>\n",
       "      <td>['Colorado Springs, CO 80909 (East Colorado Sp...</td>\n",
       "      <td>$65 - $75 an hour</td>\n",
       "      <td>Today</td>\n",
       "      <td>2021-09-18</td>\n",
       "      <td>https://www.indeed.com/pagead/clk?mo=r&amp;ad=-6NY...</td>\n",
       "    </tr>\n",
       "    <tr>\n",
       "      <th>2</th>\n",
       "      <td>2</td>\n",
       "      <td>Data Scientist</td>\n",
       "      <td>Insight Global</td>\n",
       "      <td>3.9</td>\n",
       "      <td>['+1 locationRemote']</td>\n",
       "      <td>$65 - $75 an hour</td>\n",
       "      <td>3 days ago</td>\n",
       "      <td>2021-09-18</td>\n",
       "      <td>https://www.indeed.com/pagead/clk?mo=r&amp;ad=-6NY...</td>\n",
       "    </tr>\n",
       "    <tr>\n",
       "      <th>3</th>\n",
       "      <td>3</td>\n",
       "      <td>Data Scientist</td>\n",
       "      <td>Pri Global Inc</td>\n",
       "      <td>NaN</td>\n",
       "      <td>['San Francisco, CA•Remote']</td>\n",
       "      <td>$50 - $55 an hour</td>\n",
       "      <td>3 days ago</td>\n",
       "      <td>2021-09-18</td>\n",
       "      <td>https://www.indeed.com/company/Pri-Global-Inc/...</td>\n",
       "    </tr>\n",
       "    <tr>\n",
       "      <th>4</th>\n",
       "      <td>4</td>\n",
       "      <td>Software Engineer - Data Scientist</td>\n",
       "      <td>RefleXion Medical</td>\n",
       "      <td>3.5</td>\n",
       "      <td>['Hayward, CA 94545 (Glen Eden area)']</td>\n",
       "      <td>NaN</td>\n",
       "      <td>Today</td>\n",
       "      <td>2021-09-18</td>\n",
       "      <td>https://www.indeed.com/rc/clk?jk=56c53f54d6307...</td>\n",
       "    </tr>\n",
       "  </tbody>\n",
       "</table>\n",
       "</div>"
      ],
      "text/plain": [
       "   Unnamed: 0                               Title            Company  Rating  \\\n",
       "0           0               Senior Data Scientist        CyberCoders     3.4   \n",
       "1           1            Principal Data Scientist              DISYS     3.5   \n",
       "2           2                      Data Scientist     Insight Global     3.9   \n",
       "3           3                      Data Scientist     Pri Global Inc     NaN   \n",
       "4           4  Software Engineer - Data Scientist  RefleXion Medical     3.5   \n",
       "\n",
       "                                            Location             Salary  \\\n",
       "0              ['Lake Forest, CA 92630+2 locations']                NaN   \n",
       "1  ['Colorado Springs, CO 80909 (East Colorado Sp...  $65 - $75 an hour   \n",
       "2                              ['+1 locationRemote']  $65 - $75 an hour   \n",
       "3                       ['San Francisco, CA•Remote']  $50 - $55 an hour   \n",
       "4             ['Hayward, CA 94545 (Glen Eden area)']                NaN   \n",
       "\n",
       "    Post_date Extract_date                                            Job_url  \n",
       "0   1 day ago   2021-09-18  https://www.indeed.com/pagead/clk?mo=r&ad=-6NY...  \n",
       "1       Today   2021-09-18  https://www.indeed.com/pagead/clk?mo=r&ad=-6NY...  \n",
       "2  3 days ago   2021-09-18  https://www.indeed.com/pagead/clk?mo=r&ad=-6NY...  \n",
       "3  3 days ago   2021-09-18  https://www.indeed.com/company/Pri-Global-Inc/...  \n",
       "4       Today   2021-09-18  https://www.indeed.com/rc/clk?jk=56c53f54d6307...  "
      ]
     },
     "metadata": {},
     "execution_count": 3
    }
   ],
   "metadata": {}
  },
  {
   "cell_type": "code",
   "execution_count": 4,
   "source": [
    "df['Location'] = df['Location'].apply(lambda x: re.sub(f'[\"\\'\\[\\]\\)]', '',x))\r\n",
    "df['Location']"
   ],
   "outputs": [
    {
     "output_type": "execute_result",
     "data": {
      "text/plain": [
       "0                       Lake Forest, CA 92630+2 locations\n",
       "1       Colorado Springs, CO 80909 (East Colorado Spri...\n",
       "2                                       +1 locationRemote\n",
       "3                                San Francisco, CA•Remote\n",
       "4                       Hayward, CA 94545 (Glen Eden area\n",
       "                              ...                        \n",
       "4386                                         Berkeley, CA\n",
       "4387                  Brush Prairie, WA 98606+4 locations\n",
       "4388                                   Richmond, VA 23230\n",
       "4389             Aberdeen Proving Ground, MD 21005•Remote\n",
       "4390    San Diego, CA 92121 (University City area+1 lo...\n",
       "Name: Location, Length: 4391, dtype: object"
      ]
     },
     "metadata": {},
     "execution_count": 4
    }
   ],
   "metadata": {}
  },
  {
   "cell_type": "code",
   "execution_count": 5,
   "source": [
    "df_location = df[['Title', 'Location']]\r\n",
    "df_location"
   ],
   "outputs": [
    {
     "output_type": "execute_result",
     "data": {
      "text/html": [
       "<div>\n",
       "<style scoped>\n",
       "    .dataframe tbody tr th:only-of-type {\n",
       "        vertical-align: middle;\n",
       "    }\n",
       "\n",
       "    .dataframe tbody tr th {\n",
       "        vertical-align: top;\n",
       "    }\n",
       "\n",
       "    .dataframe thead th {\n",
       "        text-align: right;\n",
       "    }\n",
       "</style>\n",
       "<table border=\"1\" class=\"dataframe\">\n",
       "  <thead>\n",
       "    <tr style=\"text-align: right;\">\n",
       "      <th></th>\n",
       "      <th>Title</th>\n",
       "      <th>Location</th>\n",
       "    </tr>\n",
       "  </thead>\n",
       "  <tbody>\n",
       "    <tr>\n",
       "      <th>0</th>\n",
       "      <td>Senior Data Scientist</td>\n",
       "      <td>Lake Forest, CA 92630+2 locations</td>\n",
       "    </tr>\n",
       "    <tr>\n",
       "      <th>1</th>\n",
       "      <td>Principal Data Scientist</td>\n",
       "      <td>Colorado Springs, CO 80909 (East Colorado Spri...</td>\n",
       "    </tr>\n",
       "    <tr>\n",
       "      <th>2</th>\n",
       "      <td>Data Scientist</td>\n",
       "      <td>+1 locationRemote</td>\n",
       "    </tr>\n",
       "    <tr>\n",
       "      <th>3</th>\n",
       "      <td>Data Scientist</td>\n",
       "      <td>San Francisco, CA•Remote</td>\n",
       "    </tr>\n",
       "    <tr>\n",
       "      <th>4</th>\n",
       "      <td>Software Engineer - Data Scientist</td>\n",
       "      <td>Hayward, CA 94545 (Glen Eden area</td>\n",
       "    </tr>\n",
       "    <tr>\n",
       "      <th>...</th>\n",
       "      <td>...</td>\n",
       "      <td>...</td>\n",
       "    </tr>\n",
       "    <tr>\n",
       "      <th>4386</th>\n",
       "      <td>Technical Team Member – Distributed Data Scien...</td>\n",
       "      <td>Berkeley, CA</td>\n",
       "    </tr>\n",
       "    <tr>\n",
       "      <th>4387</th>\n",
       "      <td>SENIOR DATA SCIENTIST (GLOBAL COMMERCIAL ANALY...</td>\n",
       "      <td>Brush Prairie, WA 98606+4 locations</td>\n",
       "    </tr>\n",
       "    <tr>\n",
       "      <th>4388</th>\n",
       "      <td>Data Scientist - Richmond, Virginia (VA)</td>\n",
       "      <td>Richmond, VA 23230</td>\n",
       "    </tr>\n",
       "    <tr>\n",
       "      <th>4389</th>\n",
       "      <td>Data Scientist</td>\n",
       "      <td>Aberdeen Proving Ground, MD 21005•Remote</td>\n",
       "    </tr>\n",
       "    <tr>\n",
       "      <th>4390</th>\n",
       "      <td>Senior Data Science Manager</td>\n",
       "      <td>San Diego, CA 92121 (University City area+1 lo...</td>\n",
       "    </tr>\n",
       "  </tbody>\n",
       "</table>\n",
       "<p>4391 rows × 2 columns</p>\n",
       "</div>"
      ],
      "text/plain": [
       "                                                  Title  \\\n",
       "0                                 Senior Data Scientist   \n",
       "1                              Principal Data Scientist   \n",
       "2                                        Data Scientist   \n",
       "3                                        Data Scientist   \n",
       "4                    Software Engineer - Data Scientist   \n",
       "...                                                 ...   \n",
       "4386  Technical Team Member – Distributed Data Scien...   \n",
       "4387  SENIOR DATA SCIENTIST (GLOBAL COMMERCIAL ANALY...   \n",
       "4388           Data Scientist - Richmond, Virginia (VA)   \n",
       "4389                                     Data Scientist   \n",
       "4390                        Senior Data Science Manager   \n",
       "\n",
       "                                               Location  \n",
       "0                     Lake Forest, CA 92630+2 locations  \n",
       "1     Colorado Springs, CO 80909 (East Colorado Spri...  \n",
       "2                                     +1 locationRemote  \n",
       "3                              San Francisco, CA•Remote  \n",
       "4                     Hayward, CA 94545 (Glen Eden area  \n",
       "...                                                 ...  \n",
       "4386                                       Berkeley, CA  \n",
       "4387                Brush Prairie, WA 98606+4 locations  \n",
       "4388                                 Richmond, VA 23230  \n",
       "4389           Aberdeen Proving Ground, MD 21005•Remote  \n",
       "4390  San Diego, CA 92121 (University City area+1 lo...  \n",
       "\n",
       "[4391 rows x 2 columns]"
      ]
     },
     "metadata": {},
     "execution_count": 5
    }
   ],
   "metadata": {}
  },
  {
   "cell_type": "code",
   "execution_count": 6,
   "source": [
    "location = pd.DataFrame(df_location.Location.str.split('•').tolist(), index=df_location.Title).stack().reset_index([0, 'Title'])\r\n",
    "location.columns = ['Title', 'location']\r\n",
    "location"
   ],
   "outputs": [
    {
     "output_type": "execute_result",
     "data": {
      "text/html": [
       "<div>\n",
       "<style scoped>\n",
       "    .dataframe tbody tr th:only-of-type {\n",
       "        vertical-align: middle;\n",
       "    }\n",
       "\n",
       "    .dataframe tbody tr th {\n",
       "        vertical-align: top;\n",
       "    }\n",
       "\n",
       "    .dataframe thead th {\n",
       "        text-align: right;\n",
       "    }\n",
       "</style>\n",
       "<table border=\"1\" class=\"dataframe\">\n",
       "  <thead>\n",
       "    <tr style=\"text-align: right;\">\n",
       "      <th></th>\n",
       "      <th>Title</th>\n",
       "      <th>location</th>\n",
       "    </tr>\n",
       "  </thead>\n",
       "  <tbody>\n",
       "    <tr>\n",
       "      <th>0</th>\n",
       "      <td>Senior Data Scientist</td>\n",
       "      <td>Lake Forest, CA 92630+2 locations</td>\n",
       "    </tr>\n",
       "    <tr>\n",
       "      <th>1</th>\n",
       "      <td>Principal Data Scientist</td>\n",
       "      <td>Colorado Springs, CO 80909 (East Colorado Spri...</td>\n",
       "    </tr>\n",
       "    <tr>\n",
       "      <th>2</th>\n",
       "      <td>Principal Data Scientist</td>\n",
       "      <td>Temporarily Remote</td>\n",
       "    </tr>\n",
       "    <tr>\n",
       "      <th>3</th>\n",
       "      <td>Data Scientist</td>\n",
       "      <td>+1 locationRemote</td>\n",
       "    </tr>\n",
       "    <tr>\n",
       "      <th>4</th>\n",
       "      <td>Data Scientist</td>\n",
       "      <td>San Francisco, CA</td>\n",
       "    </tr>\n",
       "    <tr>\n",
       "      <th>...</th>\n",
       "      <td>...</td>\n",
       "      <td>...</td>\n",
       "    </tr>\n",
       "    <tr>\n",
       "      <th>5154</th>\n",
       "      <td>SENIOR DATA SCIENTIST (GLOBAL COMMERCIAL ANALY...</td>\n",
       "      <td>Brush Prairie, WA 98606+4 locations</td>\n",
       "    </tr>\n",
       "    <tr>\n",
       "      <th>5155</th>\n",
       "      <td>Data Scientist - Richmond, Virginia (VA)</td>\n",
       "      <td>Richmond, VA 23230</td>\n",
       "    </tr>\n",
       "    <tr>\n",
       "      <th>5156</th>\n",
       "      <td>Data Scientist</td>\n",
       "      <td>Aberdeen Proving Ground, MD 21005</td>\n",
       "    </tr>\n",
       "    <tr>\n",
       "      <th>5157</th>\n",
       "      <td>Data Scientist</td>\n",
       "      <td>Remote</td>\n",
       "    </tr>\n",
       "    <tr>\n",
       "      <th>5158</th>\n",
       "      <td>Senior Data Science Manager</td>\n",
       "      <td>San Diego, CA 92121 (University City area+1 lo...</td>\n",
       "    </tr>\n",
       "  </tbody>\n",
       "</table>\n",
       "<p>5159 rows × 2 columns</p>\n",
       "</div>"
      ],
      "text/plain": [
       "                                                  Title  \\\n",
       "0                                 Senior Data Scientist   \n",
       "1                              Principal Data Scientist   \n",
       "2                              Principal Data Scientist   \n",
       "3                                        Data Scientist   \n",
       "4                                        Data Scientist   \n",
       "...                                                 ...   \n",
       "5154  SENIOR DATA SCIENTIST (GLOBAL COMMERCIAL ANALY...   \n",
       "5155           Data Scientist - Richmond, Virginia (VA)   \n",
       "5156                                     Data Scientist   \n",
       "5157                                     Data Scientist   \n",
       "5158                        Senior Data Science Manager   \n",
       "\n",
       "                                               location  \n",
       "0                     Lake Forest, CA 92630+2 locations  \n",
       "1     Colorado Springs, CO 80909 (East Colorado Spri...  \n",
       "2                                    Temporarily Remote  \n",
       "3                                     +1 locationRemote  \n",
       "4                                     San Francisco, CA  \n",
       "...                                                 ...  \n",
       "5154                Brush Prairie, WA 98606+4 locations  \n",
       "5155                                 Richmond, VA 23230  \n",
       "5156                  Aberdeen Proving Ground, MD 21005  \n",
       "5157                                             Remote  \n",
       "5158  San Diego, CA 92121 (University City area+1 lo...  \n",
       "\n",
       "[5159 rows x 2 columns]"
      ]
     },
     "metadata": {},
     "execution_count": 6
    }
   ],
   "metadata": {}
  },
  {
   "cell_type": "code",
   "execution_count": 7,
   "source": [
    "clean_loc = location['location'].apply(lambda x : x.split('+')[0])\r\n",
    "clean_loc = clean_loc.loc[~(clean_loc=='')]\r\n",
    "clean_loc"
   ],
   "outputs": [
    {
     "output_type": "execute_result",
     "data": {
      "text/plain": [
       "0                                   Lake Forest, CA 92630\n",
       "1       Colorado Springs, CO 80909 (East Colorado Spri...\n",
       "2                                      Temporarily Remote\n",
       "4                                       San Francisco, CA\n",
       "5                                                  Remote\n",
       "                              ...                        \n",
       "5154                              Brush Prairie, WA 98606\n",
       "5155                                   Richmond, VA 23230\n",
       "5156                    Aberdeen Proving Ground, MD 21005\n",
       "5157                                               Remote\n",
       "5158            San Diego, CA 92121 (University City area\n",
       "Name: location, Length: 5152, dtype: object"
      ]
     },
     "metadata": {},
     "execution_count": 7
    }
   ],
   "metadata": {}
  },
  {
   "cell_type": "code",
   "execution_count": 8,
   "source": [
    "def getState(string):\r\n",
    "    if len(string.split(',')) > 1:\r\n",
    "        temp = string.split(',')[1]\r\n",
    "        if len(string.split(',')[1].split()) > 1:\r\n",
    "            return string.split(',')[1].split()[0]\r\n",
    "        else:\r\n",
    "            return temp\r\n",
    "    return string"
   ],
   "outputs": [],
   "metadata": {}
  },
  {
   "cell_type": "code",
   "execution_count": 9,
   "source": [
    "loc_list = clean_loc.apply(lambda x : getState(x).strip())\r\n",
    "loc_list"
   ],
   "outputs": [
    {
     "output_type": "execute_result",
     "data": {
      "text/plain": [
       "0                       CA\n",
       "1                       CO\n",
       "2       Temporarily Remote\n",
       "4                       CA\n",
       "5                   Remote\n",
       "               ...        \n",
       "5154                    WA\n",
       "5155                    VA\n",
       "5156                    MD\n",
       "5157                Remote\n",
       "5158                    CA\n",
       "Name: location, Length: 5152, dtype: object"
      ]
     },
     "metadata": {},
     "execution_count": 9
    }
   ],
   "metadata": {}
  },
  {
   "cell_type": "code",
   "execution_count": 24,
   "source": [
    "states = {'AL':'Alabama', \r\n",
    "        'AK': 'Alaska',\r\n",
    "        'AZ': 'Arizona',\r\n",
    "        'AR' : 'Arkansas',\r\n",
    "        'CA':'California',\r\n",
    "        'CO':'Colorado',\r\n",
    "        'CT':'Connecticut',\r\n",
    "        'DE':'Delaware',\r\n",
    "        'FL':'Florida',\r\n",
    "        'GA':'Georgia',\r\n",
    "        'HI':'Hawaii',\r\n",
    "        'ID':'Idaho',\r\n",
    "        'IL':'Illinois',\r\n",
    "        'IN':'Indiana',\r\n",
    "        'IA':'Iowa',\r\n",
    "        'KS':'Kansas',\r\n",
    "        'KY':'Kentucky',\r\n",
    "        'LA':'Louisiana',\r\n",
    "        'ME':'Maine',\r\n",
    "        'MD':'Maryland',\r\n",
    "        'MA':'Massachusetts',\r\n",
    "        'MI':'Michigan',\r\n",
    "        'MN':'Minnesota',\r\n",
    "        'MS':'Mississippi',\r\n",
    "        'MO':'Missouri',\r\n",
    "        'MT':'Montana',\r\n",
    "        'NE':'Nebraska',\r\n",
    "        'NV':'Nevada',\r\n",
    "        'NH':'New Hampshire',\r\n",
    "        'NJ':'New Jersey',\r\n",
    "        'NM':'New Mexico',\r\n",
    "        'NY': 'New York',\r\n",
    "        'NC':'North Carolina',\r\n",
    "        'ND':'North Dakota',\r\n",
    "        'OH':'Ohio',\r\n",
    "        'OK':'Oklahoma',\r\n",
    "        'OR':'Oregon',\r\n",
    "        'PA':'Pennsylvania',\r\n",
    "        'RI':'Rhode Island',\r\n",
    "        'SC':'South Carolina',\r\n",
    "        'SD':'South Dakota',\r\n",
    "        'TN':'Tennessee',\r\n",
    "        'TX':'Texas',\r\n",
    "        'UT':'Utah',\r\n",
    "        'VT':'Vermont',\r\n",
    "        'VA':'Virginia',\r\n",
    "        'WA':'Washington',\r\n",
    "        'WV':'West Virginia',\r\n",
    "        'WI':'Wisconsin',\r\n",
    "        'WY':'Wyoming',\r\n",
    "        'DC':'Washington, D.C'\r\n",
    "        }"
   ],
   "outputs": [],
   "metadata": {}
  },
  {
   "cell_type": "code",
   "execution_count": 25,
   "source": [
    "len(states)"
   ],
   "outputs": [
    {
     "output_type": "execute_result",
     "data": {
      "text/plain": [
       "51"
      ]
     },
     "metadata": {},
     "execution_count": 25
    }
   ],
   "metadata": {}
  },
  {
   "cell_type": "code",
   "execution_count": 26,
   "source": [
    "loc_list.reset_index(inplace=True,drop=True)\r\n",
    "type(loc_list)"
   ],
   "outputs": [
    {
     "output_type": "execute_result",
     "data": {
      "text/plain": [
       "pandas.core.series.Series"
      ]
     },
     "metadata": {},
     "execution_count": 26
    }
   ],
   "metadata": {}
  },
  {
   "cell_type": "code",
   "execution_count": 27,
   "source": [
    "loc_list = pd.DataFrame(loc_list)['location'].apply(lambda x : states[x] if x in states.keys() else x)\r\n",
    "loc_list"
   ],
   "outputs": [
    {
     "output_type": "execute_result",
     "data": {
      "text/plain": [
       "0               California\n",
       "1                 Colorado\n",
       "2       Temporarily Remote\n",
       "3               California\n",
       "4                   Remote\n",
       "               ...        \n",
       "5147            Washington\n",
       "5148              Virginia\n",
       "5149              Maryland\n",
       "5150                Remote\n",
       "5151            California\n",
       "Name: location, Length: 5152, dtype: object"
      ]
     },
     "metadata": {},
     "execution_count": 27
    }
   ],
   "metadata": {}
  },
  {
   "cell_type": "code",
   "execution_count": 28,
   "source": [
    "loc_larger_10 = loc_list.value_counts()[loc_list.value_counts()>10].sort_values(ascending=True)\r\n",
    "loc_larger_10.keys()"
   ],
   "outputs": [
    {
     "output_type": "execute_result",
     "data": {
      "text/plain": [
       "Index(['Michigan', 'Florida', 'United States', 'Alabama', 'Arizona',\n",
       "       'Kentucky', 'Oregon', 'New York State', 'Temporarily Remote',\n",
       "       'Massachusetts', 'Colorado', 'New Jersey', 'New York', 'Washington',\n",
       "       'Minnesota', 'Georgia', 'Pennsylvania', 'Texas', 'North Carolina',\n",
       "       'Virginia', 'Washington, D.C', 'Illinois', 'Maryland', 'California',\n",
       "       'Remote'],\n",
       "      dtype='object')"
      ]
     },
     "metadata": {},
     "execution_count": 28
    }
   ],
   "metadata": {}
  },
  {
   "cell_type": "code",
   "execution_count": 29,
   "source": [
    "fig, axs = plt.subplots(figsize=[14, 6])\r\n",
    "#bar char\r\n",
    "axs.barh(loc_larger_10.keys(), loc_larger_10.values)\r\n",
    "for i, rect in enumerate(loc_larger_10.values):\r\n",
    "    axs.annotate(rect, xy=(rect, i))\r\n",
    "axs.set_title(\"Data scientist job location \")\r\n",
    "axs.set_xlabel('location amounts')"
   ],
   "outputs": [
    {
     "output_type": "execute_result",
     "data": {
      "text/plain": [
       "Text(0.5, 0, 'location amounts')"
      ]
     },
     "metadata": {},
     "execution_count": 29
    },
    {
     "output_type": "display_data",
     "data": {
      "image/png": "[encoded data removed]",
      "text/plain": [
       "<Figure size 1008x432 with 1 Axes>"
      ]
     },
     "metadata": {
      "needs_background": "light"
     }
    }
   ],
   "metadata": {}
  },
  {
   "cell_type": "code",
   "execution_count": 16,
   "source": [
    "#Title analysis\r\n",
    "\r\n",
    "df['Title'] = df['Title'].str.lower()\r\n",
    "df['Title'].value_counts()[df['Title'].value_counts()>10].sort_values(ascending=False)"
   ],
   "outputs": [
    {
     "output_type": "execute_result",
     "data": {
      "text/plain": [
       "data scientist                              220\n",
       "senior data scientist                       182\n",
       "data science consultant                     133\n",
       "manager, data science                       127\n",
       "data scientist - omni analytics             121\n",
       "                                           ... \n",
       "data scientist(gas experience preferred)     14\n",
       "data scientist(10674282_963692)              14\n",
       "data scientist(10674281_963695)              14\n",
       "data scientist ii                            11\n",
       "data scientist - senior consultant           11\n",
       "Name: Title, Length: 81, dtype: int64"
      ]
     },
     "metadata": {},
     "execution_count": 16
    }
   ],
   "metadata": {}
  }
 ],
 "metadata": {
  "orig_nbformat": 4,
  "language_info": {
   "name": "python",
   "version": "3.9.2",
   "mimetype": "text/x-python",
   "codemirror_mode": {
    "name": "ipython",
    "version": 3
   },
   "pygments_lexer": "ipython3",
   "nbconvert_exporter": "python",
   "file_extension": ".py"
  },
  "kernelspec": {
   "name": "python3",
   "display_name": "Python 3.9.2 64-bit"
  },
  "interpreter": {
   "hash": "c5562ae4cb73c005d4d512b63371f9759c2bba9f1255843d95070cdaa5df3d5e"
  }
 },
 "nbformat": 4,
 "nbformat_minor": 2
}