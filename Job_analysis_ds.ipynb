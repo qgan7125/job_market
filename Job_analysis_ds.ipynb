{
 "cells": [
  {
   "cell_type": "code",
   "execution_count": 37,
   "source": [
    "import pandas as pd\r\n",
    "import matplotlib.pyplot as plt\r\n",
    "import re"
   ],
   "outputs": [],
   "metadata": {}
  },
  {
   "cell_type": "code",
   "execution_count": 2,
   "source": [
    "pd = pd.read_csv('Data scientist.csv')"
   ],
   "outputs": [],
   "metadata": {}
  },
  {
   "cell_type": "code",
   "execution_count": 6,
   "source": [
    "TTQ = pd[['Title', 'Job Type', 'Qualifications']]"
   ],
   "outputs": [],
   "metadata": {}
  },
  {
   "cell_type": "code",
   "execution_count": 36,
   "source": [
    "TTQ"
   ],
   "outputs": [
    {
     "output_type": "execute_result",
     "data": {
      "text/html": [
       "<div>\n",
       "<style scoped>\n",
       "    .dataframe tbody tr th:only-of-type {\n",
       "        vertical-align: middle;\n",
       "    }\n",
       "\n",
       "    .dataframe tbody tr th {\n",
       "        vertical-align: top;\n",
       "    }\n",
       "\n",
       "    .dataframe thead th {\n",
       "        text-align: right;\n",
       "    }\n",
       "</style>\n",
       "<table border=\"1\" class=\"dataframe\">\n",
       "  <thead>\n",
       "    <tr style=\"text-align: right;\">\n",
       "      <th></th>\n",
       "      <th>Title</th>\n",
       "      <th>Job Type</th>\n",
       "      <th>Qualifications</th>\n",
       "    </tr>\n",
       "  </thead>\n",
       "  <tbody>\n",
       "    <tr>\n",
       "      <th>0</th>\n",
       "      <td>DATA SCIENTIST (NORTH AMERICA DIGITAL MARKETPL...</td>\n",
       "      <td>NaN</td>\n",
       "      <td>NaN</td>\n",
       "    </tr>\n",
       "    <tr>\n",
       "      <th>1</th>\n",
       "      <td>Junior Data Scientist</td>\n",
       "      <td>['Full-time', 'Contract']</td>\n",
       "      <td>[\"Master's (Preferred)\", 'Python: 1 year (Pref...</td>\n",
       "    </tr>\n",
       "    <tr>\n",
       "      <th>2</th>\n",
       "      <td>Data Scientist, Analytics</td>\n",
       "      <td>['Full-time']</td>\n",
       "      <td>NaN</td>\n",
       "    </tr>\n",
       "    <tr>\n",
       "      <th>3</th>\n",
       "      <td>Data Scientist</td>\n",
       "      <td>['Full-time']</td>\n",
       "      <td>[\"Bachelor's (Preferred)\"]</td>\n",
       "    </tr>\n",
       "    <tr>\n",
       "      <th>4</th>\n",
       "      <td>Data Scientist</td>\n",
       "      <td>['Full-time']</td>\n",
       "      <td>[\"Bachelor's (Preferred)\"]</td>\n",
       "    </tr>\n",
       "    <tr>\n",
       "      <th>...</th>\n",
       "      <td>...</td>\n",
       "      <td>...</td>\n",
       "      <td>...</td>\n",
       "    </tr>\n",
       "    <tr>\n",
       "      <th>915</th>\n",
       "      <td>Senior Associate, Data Scientist, NLP</td>\n",
       "      <td>NaN</td>\n",
       "      <td>NaN</td>\n",
       "    </tr>\n",
       "    <tr>\n",
       "      <th>916</th>\n",
       "      <td>Senior Data Analyst, Finance</td>\n",
       "      <td>NaN</td>\n",
       "      <td>NaN</td>\n",
       "    </tr>\n",
       "    <tr>\n",
       "      <th>917</th>\n",
       "      <td>Senior Associate, AI, NLP Data Modeler</td>\n",
       "      <td>NaN</td>\n",
       "      <td>NaN</td>\n",
       "    </tr>\n",
       "    <tr>\n",
       "      <th>918</th>\n",
       "      <td>AI/ML — iOS/macOS Senior Software Engineer, Ma...</td>\n",
       "      <td>NaN</td>\n",
       "      <td>NaN</td>\n",
       "    </tr>\n",
       "    <tr>\n",
       "      <th>919</th>\n",
       "      <td>Sr. AI Software Engineer - Data Scientist</td>\n",
       "      <td>NaN</td>\n",
       "      <td>NaN</td>\n",
       "    </tr>\n",
       "  </tbody>\n",
       "</table>\n",
       "<p>920 rows × 3 columns</p>\n",
       "</div>"
      ],
      "text/plain": [
       "                                                 Title  \\\n",
       "0    DATA SCIENTIST (NORTH AMERICA DIGITAL MARKETPL...   \n",
       "1                                Junior Data Scientist   \n",
       "2                            Data Scientist, Analytics   \n",
       "3                                       Data Scientist   \n",
       "4                                       Data Scientist   \n",
       "..                                                 ...   \n",
       "915              Senior Associate, Data Scientist, NLP   \n",
       "916                       Senior Data Analyst, Finance   \n",
       "917             Senior Associate, AI, NLP Data Modeler   \n",
       "918  AI/ML — iOS/macOS Senior Software Engineer, Ma...   \n",
       "919          Sr. AI Software Engineer - Data Scientist   \n",
       "\n",
       "                      Job Type  \\\n",
       "0                          NaN   \n",
       "1    ['Full-time', 'Contract']   \n",
       "2                ['Full-time']   \n",
       "3                ['Full-time']   \n",
       "4                ['Full-time']   \n",
       "..                         ...   \n",
       "915                        NaN   \n",
       "916                        NaN   \n",
       "917                        NaN   \n",
       "918                        NaN   \n",
       "919                        NaN   \n",
       "\n",
       "                                        Qualifications  \n",
       "0                                                  NaN  \n",
       "1    [\"Master's (Preferred)\", 'Python: 1 year (Pref...  \n",
       "2                                                  NaN  \n",
       "3                           [\"Bachelor's (Preferred)\"]  \n",
       "4                           [\"Bachelor's (Preferred)\"]  \n",
       "..                                                 ...  \n",
       "915                                                NaN  \n",
       "916                                                NaN  \n",
       "917                                                NaN  \n",
       "918                                                NaN  \n",
       "919                                                NaN  \n",
       "\n",
       "[920 rows x 3 columns]"
      ]
     },
     "metadata": {},
     "execution_count": 36
    }
   ],
   "metadata": {}
  },
  {
   "cell_type": "code",
   "execution_count": 22,
   "source": [
    "TTQ.groupby('Title')['Title'].count().sort_values(ascending=False).head(10)"
   ],
   "outputs": [
    {
     "output_type": "execute_result",
     "data": {
      "text/plain": [
       "Title\n",
       "Data Scientist               188\n",
       "Senior Data Analyst           41\n",
       "Senior Data Scientist         25\n",
       "Machine Learning Engineer     23\n",
       "Sr. Data Analyst              14\n",
       "Principal Data Scientist      11\n",
       "Sr. Data Scientist            10\n",
       "Data Scientist II              9\n",
       "Associate Data Scientist       7\n",
       "Data Analyst                   6\n",
       "Name: Title, dtype: int64"
      ]
     },
     "metadata": {},
     "execution_count": 22
    }
   ],
   "metadata": {}
  },
  {
   "cell_type": "code",
   "execution_count": 32,
   "source": [
    "qulifications = TTQ[~TTQ['Qualifications'].isna()]['Qualifications'].tolist()"
   ],
   "outputs": [],
   "metadata": {}
  },
  {
   "cell_type": "code",
   "execution_count": 124,
   "source": [
    "#data cleaning\r\n",
    "allQ = [re.sub(f'[\"\\'\\[\\]\\)]', '',j) for i in qulifications for j in i.split(', \\'')]\r\n",
    "pd_skills = pd.DataFrame([i.split('(') for i in allQ], columns=['skills', 'required', 'extra'])[['skills', 'required']]\r\n",
    "pd_skills['skills'] = pd_skills['skills'].str.replace(',', ':')\r\n",
    "pd_skills[['skill', 'year']] = pd_skills.skills.str.split(':', expand=True)\r\n",
    "pd_cleaned = pd_skills[['skill', 'year', 'required']]"
   ],
   "outputs": [],
   "metadata": {}
  },
  {
   "cell_type": "code",
   "execution_count": 122,
   "source": [
    "#required skill\r\n",
    "pd_cleaned[pd_cleaned['required'] == 'Required'].groupby('skill')['skill'].count().sort_values(ascending=False)"
   ],
   "outputs": [
    {
     "output_type": "execute_result",
     "data": {
      "text/plain": [
       "skill\n",
       "Bachelors                      21\n",
       "Python                         13\n",
       "US work authorization          11\n",
       "SQL                            11\n",
       "Masters                         7\n",
       "Machine learning                6\n",
       "R                               4\n",
       "Machine Learning                4\n",
       "Natural language processing     3\n",
       "Data Scientist                  3\n",
       "Tableau                         3\n",
       "Quantitative analysis           3\n",
       "NLP                             2\n",
       "Top Secret                      2\n",
       "TensorFlow                      2\n",
       "mathematics/statistics          2\n",
       "Marketing                       2\n",
       "Database design                 2\n",
       "Data science                    2\n",
       "Analytics                       1\n",
       "Mathematical models             1\n",
       "Pytorch                         1\n",
       "Doctorate                       1\n",
       "Relational databases            1\n",
       "Secret                          1\n",
       "Spark                           1\n",
       "Data Science and SaaS           1\n",
       "Computer vision                 1\n",
       "Artificial Intelligence         1\n",
       "AI                              1\n",
       "Name: skill, dtype: int64"
      ]
     },
     "metadata": {},
     "execution_count": 122
    }
   ],
   "metadata": {}
  },
  {
   "cell_type": "code",
   "execution_count": 123,
   "source": [
    "#preferred skill\r\n",
    "pd_cleaned[pd_cleaned['required'] == 'Preferred'].groupby('skill')['skill'].count().sort_values(ascending=False)"
   ],
   "outputs": [
    {
     "output_type": "execute_result",
     "data": {
      "text/plain": [
       "skill\n",
       "Bachelors                                  26\n",
       "SQL                                        24\n",
       "Python                                     23\n",
       "Masters                                     8\n",
       "Data analysis skills                        4\n",
       "US work authorization                       4\n",
       "High school or equivalent                   4\n",
       "R                                           3\n",
       "SAS                                         3\n",
       "Data mining                                 3\n",
       "Machine learning                            3\n",
       "Agile                                       3\n",
       "Java                                        3\n",
       "ETL                                         2\n",
       "REST                                        2\n",
       "Kubernetes                                  2\n",
       "Technology Business development & Sales     2\n",
       "Deep learning                               2\n",
       "Data scientist                              2\n",
       "Data science                                2\n",
       "XML                                         2\n",
       "data collection                             2\n",
       "data processing                             2\n",
       "Azure                                       2\n",
       "Ansible                                     2\n",
       "Python and/or R                             1\n",
       "Software development                        1\n",
       "Secret                                      1\n",
       "Salesforce                                  1\n",
       "VBA                                         1\n",
       "AWS                                         1\n",
       "Machine Learning                            1\n",
       "Natural language processing                 1\n",
       "NGS Data Analysis                           1\n",
       "Medical terminology                         1\n",
       "Medical coding                              1\n",
       "Linux                                       1\n",
       "LCMS or mass Spectrometry or HPLC           1\n",
       "JavaScript                                  1\n",
       "Doctorate                                   1\n",
       "Data visualization                          1\n",
       "Data modeling                               1\n",
       "Data Science                                1\n",
       "Confidential                                1\n",
       "C + +                                       1\n",
       "laboratory Data analysis                    1\n",
       "Name: skill, dtype: int64"
      ]
     },
     "metadata": {},
     "execution_count": 123
    }
   ],
   "metadata": {}
  }
 ],
 "metadata": {
  "orig_nbformat": 4,
  "language_info": {
   "name": "python",
   "version": "3.9.2",
   "mimetype": "text/x-python",
   "codemirror_mode": {
    "name": "ipython",
    "version": 3
   },
   "pygments_lexer": "ipython3",
   "nbconvert_exporter": "python",
   "file_extension": ".py"
  },
  "kernelspec": {
   "name": "python3",
   "display_name": "Python 3.9.2 64-bit"
  },
  "interpreter": {
   "hash": "c5562ae4cb73c005d4d512b63371f9759c2bba9f1255843d95070cdaa5df3d5e"
  }
 },
 "nbformat": 4,
 "nbformat_minor": 2
}